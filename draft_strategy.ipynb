{
 "cells": [
  {
   "cell_type": "code",
   "execution_count": null,
   "metadata": {},
   "outputs": [],
   "source": [
    "from contextlib import nullcontext\n",
    "import pandas as pd\n",
    "import os\n",
    "import csv"
   ]
  },
  {
   "cell_type": "code",
   "execution_count": null,
   "metadata": {},
   "outputs": [],
   "source": [
    "# read the csv file / import the data\n",
    "\n",
    "absolute_path = os.path.abspath('')\n",
    "relative_path = \"data/historical_field_goal_data.csv\"\n",
    "full_path = os.path.join(absolute_path, relative_path)\n",
    "df = pd.read_csv(full_path)"
   ]
  },
  {
   "cell_type": "code",
   "execution_count": null,
   "metadata": {},
   "outputs": [],
   "source": [
    "# print a sample of the data\n",
    "\n",
    "'''\n",
    "print(\"HERE IS A SAMPLE OF THE DATA:\")\n",
    "print()\n",
    "print(df.head())\n",
    "'''"
   ]
  },
  {
   "cell_type": "code",
   "execution_count": null,
   "metadata": {},
   "outputs": [],
   "source": [
    "# Prints the first row in a dome in the current df\n",
    "\n",
    "'''\n",
    "print()\n",
    "print()\n",
    "print()\n",
    "print(\"HERE IS THE FIRST ROW IN A DOME\")\n",
    "print()\n",
    "print(df.iloc[19,:])\n",
    "'''"
   ]
  },
  {
   "cell_type": "code",
   "execution_count": null,
   "metadata": {},
   "outputs": [],
   "source": [
    "# Converts the null values in column 'temperature' to '0'\n",
    "df['temperature'] = df['temperature'].fillna(0)"
   ]
  },
  {
   "cell_type": "code",
   "execution_count": null,
   "metadata": {},
   "outputs": [],
   "source": [
    "# Prints row 20 showing new values, temperatiure should now be 0\n",
    "'''\n",
    "print()\n",
    "print()\n",
    "print()\n",
    "print(\"HERE IS THE FIRST ROW IN A DOME WITHOUT NULL TEMP\")\n",
    "print(df.iloc[19,:])\n",
    "'''"
   ]
  },
  {
   "cell_type": "code",
   "execution_count": null,
   "metadata": {},
   "outputs": [],
   "source": [
    "# create a list of column names by using .columns\n",
    "'''\n",
    "list_of_column_names = list(df.columns)\n",
    "\n",
    "# displaying the list of column names\n",
    "print()\n",
    "print(\"LIST OF COLUMN NAMES:\")\n",
    "print(list_of_column_names)\n",
    "print()\n",
    "print()\n",
    "'''"
   ]
  },
  {
   "cell_type": "code",
   "execution_count": null,
   "metadata": {},
   "outputs": [],
   "source": [
    "# creating new DataFrame to hold results from our analsyis\n",
    "results_df = pd.DataFrame(list())\n",
    "\n",
    "# writing empty DataFrame to the new csv file\n",
    "results_df.to_csv('data/results_df.csv')\n",
    "\n",
    "# defining a header row\n",
    "header = [\"Criteria\", \"FG attempts per Game\", \"FG Percent\", \"Anticipated MADE FG's\"]\n",
    "\n",
    "with open('data/results_df.csv', 'w', newline='') as f:\n",
    "    # create the csv writer\n",
    "    writer = csv.writer(f)\n",
    "\n",
    "    # write a row to the csv file\n",
    "    writer.writerow(header)"
   ]
  },
  {
   "cell_type": "code",
   "execution_count": null,
   "metadata": {},
   "outputs": [],
   "source": [
    "#adding additional test rows\n",
    "'''\n",
    "test_row1 = [\"x\", \"y\", \"z\"]\n",
    "test_row2 = [\"apple\", \"banana\", \"orange\"]\n",
    "\n",
    "with open('data/results_df.csv', 'a', newline='') as f:\n",
    "    # create the csv writer\n",
    "    writer = csv.writer(f)\n",
    "\n",
    "    # write a row to the csv file\n",
    "    writer.writerow(test_row1)\n",
    "    writer.writerow(test_row2)\n",
    "'''"
   ]
  },
  {
   "cell_type": "code",
   "execution_count": null,
   "metadata": {},
   "outputs": [],
   "source": [
    "#print the results csv\n",
    "absolute_path_results = os.path.abspath('')\n",
    "relative_path_results = \"data/results_df.csv\"\n",
    "full_path_results = os.path.join(absolute_path_results, relative_path_results)\n",
    "\n",
    "print_results_df = pd.read_csv(full_path_results)\n",
    "print(print_results_df.head())"
   ]
  },
  {
   "cell_type": "code",
   "execution_count": null,
   "metadata": {},
   "outputs": [],
   "source": [
    "#method to add results to results_df\n",
    "def add_results_data(data):\n",
    "\n",
    "    with open('data/results_df.csv', 'a', newline='', encoding='utf8') as f:\n",
    "        # create the csv writer\n",
    "        writer = csv.writer(f)\n",
    "\n",
    "        # write row to the csv file\n",
    "        writer.writerow(data)"
   ]
  },
  {
   "cell_type": "code",
   "execution_count": null,
   "metadata": {},
   "outputs": [],
   "source": [
    "#adding a test row to results.df\n",
    "'''\n",
    "results_data_to_add = [\"cri\", \"att\", \"per\", \"exp\"]\n",
    "add_results_data(results_data_to_add)\n",
    "\n",
    "print_results_df = pd.read_csv(full_path_results)\n",
    "print(print_results_df.head())\n",
    "'''"
   ]
  },
  {
   "cell_type": "code",
   "execution_count": null,
   "metadata": {},
   "outputs": [],
   "source": [
    "# adding total game data\n",
    "total_games = 2405\n",
    "\n",
    "# calculating games with no fg's\n",
    "games_with_fgs = df[['season', 'week', 'stadium']].drop_duplicates().shape[0]\n",
    "games_with_no_fgs = total_games - games_with_fgs\n",
    "\n",
    "#printing total number of games\n",
    "print()\n",
    "print(\"There were {} games from 2012-2020.\".format(total_games))\n",
    "print()\n",
    "print()\n"
   ]
  },
  {
   "cell_type": "code",
   "execution_count": null,
   "metadata": {},
   "outputs": [],
   "source": [
    "# Providing user with information about our data set\n",
    "\n",
    "print()\n",
    "print(\"There are\", df[['season', 'week', 'stadium']].drop_duplicates().shape[0], \"games in our data set.\")\n",
    "print()\n",
    "print()\n",
    "print()\n",
    "# Alternative code using len() instead of .shape()\n",
    "#print(\"There are\", len(df[['season', 'week', 'stadium']].drop_duplicates()), \"games in our data set.\")\n",
    "\n",
    "print(\"This means there were {} games with no field goals or field goal attempts.\".format(games_with_no_fgs))\n",
    "print()\n",
    "print()\n",
    "print()\n",
    "print(\"There were field goal attempts in {} percentage of the games and no field goal attempts in {} percentage of the games.\".format(games_with_fgs/total_games, games_with_no_fgs/total_games))\n",
    "print()\n",
    "print()\n",
    "print()"
   ]
  },
  {
   "cell_type": "code",
   "execution_count": null,
   "metadata": {},
   "outputs": [],
   "source": [
    "# declaring variables\n",
    "\n",
    "number_of_fg_attempts = len(df[df.made < 3])\n",
    "number_of_fg_made = len(df[df.made == 1])\n",
    "number_of_fg_missed = len(df[df.made == 0])\n",
    "fg_percent = (number_of_fg_made / number_of_fg_attempts)\n",
    "\n",
    "#Variables above could also be written using .value_counts() but it causes issues later in this program\n",
    "#number_of_fg_attempts = df.made.value_counts()\n",
    "#fg_percent = df.made.value_counts(1)\n",
    "\n",
    "attempts_per_game = number_of_fg_attempts / total_games\n",
    "fg_per_game = number_of_fg_made / total_games\n",
    "years = df['season'].unique()\n",
    "weeks = df['week'].unique()\n",
    "stadiums = df['stadium'].unique()\n",
    "kickers = df['kicker'].unique()\n",
    "teams = df['off'].unique()\n"
   ]
  },
  {
   "cell_type": "code",
   "execution_count": null,
   "metadata": {},
   "outputs": [],
   "source": [
    "#adding base data to results df\n",
    "results_data_to_add = [\"Overall Average\", attempts_per_game, fg_percent, (attempts_per_game * fg_percent)]\n",
    "add_results_data(results_data_to_add)\n",
    "\n",
    "print_results_df = pd.read_csv(full_path_results)\n",
    "print(print_results_df.head())"
   ]
  },
  {
   "cell_type": "code",
   "execution_count": null,
   "metadata": {},
   "outputs": [],
   "source": [
    "#method to print specific data from the data file\n",
    "def print_df_info(description, variable):\n",
    "    print()\n",
    "    print(description + \":\")\n",
    "    print()\n",
    "    print(variable)\n",
    "    print()"
   ]
  },
  {
   "cell_type": "code",
   "execution_count": null,
   "metadata": {},
   "outputs": [],
   "source": [
    "#print selected data from the data file\n",
    "print_df_info(\"NUMBER OF MADE FIELD GOALS:\", number_of_fg_attempts)\n",
    "print_df_info(\"PERCENTAGE OF MADE FIELD GOALS:\", fg_percent)\n",
    "print_df_info(\"NUMBER OF FIELD GOALS PER GAME:\", fg_per_game)\n",
    "print_df_info(\"Here is a list of years where game data was recorded:\", years)\n",
    "print_df_info(\"Here is a list of weeks where game data was recorded:\", weeks)\n",
    "print_df_info(\"Here is a list of Stadiums where games have been played:\", stadiums)\n",
    "print_df_info(\"Here is a list of Kickers who attempted a field goal:\", kickers)"
   ]
  },
  {
   "cell_type": "code",
   "execution_count": null,
   "metadata": {},
   "outputs": [],
   "source": [
    "#method to analyze fg data with a single criteria search\n",
    "from matplotlib.cm import get_cmap\n",
    "\n",
    "def compare_single_criteria(column, operator, value, description):\n",
    "\n",
    "    cop = column + operator + value\n",
    "\n",
    "    fg_att = df.query(cop).shape[0]\n",
    "    fg_made = df.query(cop + \"& made == 1\").shape[0]\n",
    "    fg_missed = df.query(cop + \"& made == 0\").shape[0]\n",
    "    p_made = df.query(cop + \"& made == 1\").shape[0] / df.query(cop).shape[0]\n",
    "    p_missed = df.query(cop + \"& made == 0\").shape[0] / df.query(cop).shape[0]\n",
    "    \n",
    "    if(value.isnumeric()):\n",
    "        if(operator == \"==\"):\n",
    "            temp_df = df.loc[df[column] == float(value)].copy()\n",
    "        elif(operator == \">\"):\n",
    "            temp_df = df.loc[df[column] > float(value)].copy()\n",
    "        elif(operator == \">=\"):\n",
    "            temp_df = df.loc[df[column] >= float(value)].copy()\n",
    "        elif(operator == \"<\"):\n",
    "            temp_df = df.loc[df[column] < float(value)].copy()\n",
    "        elif(operator == \"<=\"):\n",
    "            temp_df = df.loc[df[column] <= float(value)].copy()\n",
    "\n",
    "    else:\n",
    "        if(operator == \"==\"):\n",
    "            temp_df = df.loc[df[column] == \"{}\".format(value)].copy()\n",
    "        elif(operator == \"!=\"):\n",
    "            temp_df = df.loc[df[column] != value].copy()\n",
    "\n",
    "    #gtmc is games that meet criteria\n",
    "    gtmc = temp_df[['season', 'week', 'stadium']].drop_duplicates().shape[0]\n",
    "    fg_per_game = fg_att / gtmc\n",
    "    expected_made_per_game = fg_per_game * p_made\n",
    "\n",
    "    print()\n",
    "    print(\"Number of field goals attempted, \", description, \":\", fg_att)\n",
    "    print(\"Number of field goals made, \", description, \":\", fg_made)\n",
    "    print(\"Number of field goals missed, \", description, \":\", fg_missed)\n",
    "    print(\"Percentage of field goals made, \", description, \":\", p_made)\n",
    "    print(\"Percentage of field goals missed, \", description, \":\", p_missed)\n",
    "    print(\"Games \", description, \":\", gtmc)\n",
    "    print(\"Field Goals attempted per game \", description, \":\", fg_per_game)\n",
    "    print(\"Number of expected field goals made per game, \", description, \":\", expected_made_per_game)\n",
    "    \n",
    "    print()\n",
    "    print()\n",
    "\n",
    "    results_data_to_add = [description, fg_per_game, p_made, expected_made_per_game]\n",
    "    add_results_data(results_data_to_add)\n",
    "\n"
   ]
  },
  {
   "cell_type": "code",
   "execution_count": null,
   "metadata": {},
   "outputs": [],
   "source": [
    "#method to analyze fg data with a double criteria search\n",
    "from matplotlib.cm import get_cmap\n",
    "\n",
    "def compare_double_criteria(column, operator, value, operator2, value2, description):\n",
    "\n",
    "    cop = column + operator + value\n",
    "    cop2 = column + operator2 + value2\n",
    "\n",
    "    fg_att = df.query(cop + \"&\" + cop2).shape[0]\n",
    "    print(\"Number of field goals attempted, \", description, \":\", fg_att)\n",
    "\n",
    "    fg_made = df.query(cop + \"&\" + cop2 + \"& made == 1\").shape[0]\n",
    "    print(\"Number of field goals made, \", description, \":\", fg_made)\n",
    "\n",
    "    fg_missed = df.query(cop + \"&\" + cop2 + \"& made == 0\").shape[0]\n",
    "    print(\"Number of field goals missed, \", description, \":\", fg_missed)\n",
    "\n",
    "    p_made = df.query(cop + \"&\"+  cop2 + \"& made == 1\").shape[0] / df.query(cop + \"&\" + cop2).shape[0]\n",
    "    print(\"Percentage of field goals made, \", description, \":\", p_made)\n",
    "\n",
    "    p_missed = df.query(cop + \"&\" + cop2 + \"& made == 0\").shape[0] / df.query(cop + \"&\" + cop2).shape[0]\n",
    "    print(\"Percentage of field goals missed, \", description, \":\", p_missed)\n",
    "\n",
    "    #Double criteria must use integers with > as the first operator and < as the second operator.\n",
    " \n",
    "    temp_df = df.loc[(df[column] > int(value)) & (df[column] < int(value2))].copy()\n",
    "    print(temp_df.head())\n",
    "\n",
    "    #gtmc is games that meet criteria\n",
    "    gtmc = temp_df[['season', 'week', 'stadium']].drop_duplicates().shape[0]\n",
    "    print(\"Games \", description, \":\", gtmc)\n",
    "\n",
    "    fg_per_game = fg_att / gtmc\n",
    "    print(\"Field Goals attempted per game \", description, \":\", fg_per_game)\n",
    "\n",
    "    expected_made_per_game = fg_per_game * p_made\n",
    "    print(\"Number of expected field goals made per game, \", description, \":\", expected_made_per_game)\n",
    "\n",
    "    '''\n",
    "    print()\n",
    "    print(\"Number of field goals attempted, \", description, \":\", fg_att)\n",
    "    print(\"Number of field goals made, \", description, \":\", fg_made)\n",
    "    print(\"Number of field goals missed, \", description, \":\", fg_missed)\n",
    "    print(\"Percentage of field goals made, \", description, \":\", p_made)\n",
    "    print(\"Percentage of field goals missed, \", description, \":\", p_missed)\n",
    "    print(\"Games \", description, \":\", gtmc)\n",
    "    print(\"Field Goals attempted per game \", description, \":\", fg_per_game)\n",
    "    print(\"Expected Field Goals made per game \", description, \":\", fg_per_game)\n",
    "    '''\n",
    "\n",
    "    print()\n",
    "    print()\n",
    "\n",
    "    results_data_to_add = [description, fg_per_game, p_made, expected_made_per_game]\n",
    "    add_results_data(results_data_to_add)"
   ]
  },
  {
   "cell_type": "code",
   "execution_count": null,
   "metadata": {},
   "outputs": [],
   "source": [
    "#method to analyze fg data for multiple value searches (i.e. searching across the df)\n",
    "from matplotlib.cm import get_cmap\n",
    "\n",
    "def compare_for_mass_data(column, operator, value, description):\n",
    "\n",
    "    cop = column + operator + value\n",
    "    \n",
    "    fg_att = df.query(cop).shape[0]\n",
    "    fg_made = df.query(cop + \"& made == 1\").shape[0]\n",
    "    fg_missed = df.query(cop + \"& made == 0\").shape[0]\n",
    "    p_made = df.query(cop + \"& made == 1\").shape[0] / df.query(cop).shape[0]\n",
    "    p_missed = df.query(cop + \"& made == 0\").shape[0] / df.query(cop).shape[0]\n",
    "\n",
    "    temp_df = df.loc[df['stadium'] == \"{}\".format(i)].copy()\n",
    "\n",
    "    #gtmc is games that meet criteria\n",
    "    gtmc = temp_df[['season', 'week', 'stadium']].drop_duplicates().shape[0]\n",
    "    fg_per_game = fg_att / gtmc\n",
    "    expected_made_per_game = fg_per_game * p_made\n",
    "\n",
    "    print()\n",
    "    print(\"Number of field goals attempted, \", description, \":\", fg_att)\n",
    "    print(\"Number of field goals made, \", description, \":\", fg_made)\n",
    "    print(\"Number of field goals missed, \", description, \":\", fg_missed)\n",
    "    print(\"Percentage of field goals made, \", description, \":\", p_made)\n",
    "    print(\"Percentage of field goals missed, \", description, \":\", p_missed)\n",
    "    print(\"Games \", description, \":\", gtmc)\n",
    "    print(\"Field Goals attempted per game \", description, \":\", fg_per_game)\n",
    "    print(\"Number of expected field goals made per game, \", description, \":\", expected_made_per_game)\n",
    "    \n",
    "    print()\n",
    "    print()\n",
    "\n",
    "    results_data_to_add = [description, fg_per_game, p_made, expected_made_per_game]\n",
    "    add_results_data(results_data_to_add)"
   ]
  },
  {
   "cell_type": "code",
   "execution_count": null,
   "metadata": {},
   "outputs": [],
   "source": [
    "#Using the compare methods to look at how temperature effects field goals\n",
    "compare_single_criteria(\"temperature\", \"==\", \"0\", \"in a dome\")\n",
    "compare_double_criteria(\"temperature\", \">\", \"0\", \"<\", \"32\", \"in below freezing temperature\")\n",
    "compare_double_criteria(\"temperature\", \">\", \"32\", \"<\", \"55\", \"in the cold (32f-55f)\")\n",
    "compare_single_criteria(\"temperature\",  \">\", \"80\", \"in the heat (over 80f)\")\n",
    "\n",
    "\n"
   ]
  },
  {
   "cell_type": "code",
   "execution_count": null,
   "metadata": {},
   "outputs": [],
   "source": [
    "#Using the compare methods to look at how wind speed effects field goals\n",
    "compare_single_criteria(\"wind_speed\", \"<\", \"5\", \"in low wind(under 5 mph)\")\n",
    "compare_double_criteria(\"wind_speed\", \">\", \"5\", \"<\", \"10\", \"in medium wind (5-10 mph)\")\n",
    "compare_single_criteria(\"wind_speed\", \">\", \"10\", \"in high wind (over 10mph)\")"
   ]
  },
  {
   "cell_type": "code",
   "execution_count": null,
   "metadata": {},
   "outputs": [],
   "source": [
    "#Using the compare methods to look at how over/under effects field goals\n",
    "compare_single_criteria(\"ou\", \"<\", \"40\", \"with over/under below 40\")\n",
    "compare_double_criteria(\"ou\", \">\", \"40\", \"<\", \"45\", \"with over/under between 40 and 45\")\n",
    "compare_double_criteria(\"ou\", \">\", \"45\", \"<\", \"50\", \"with over/under between 45 and 50\")\n",
    "compare_single_criteria(\"ou\", \">\", \"50\", \"with over/under over 50\")"
   ]
  },
  {
   "cell_type": "code",
   "execution_count": null,
   "metadata": {},
   "outputs": [],
   "source": [
    "#Using the compare methods to look at how home/away effects field goals\n",
    "\n",
    "temp_df = df.loc[df['home'] == (df['off'])].copy()\n",
    "compare_single_criteria(\"season\", \">\", \"2000\", \"in home games\")\n",
    "\n",
    "temp_df = df.loc[df['away'] == (df['off'])].copy()\n",
    "compare_single_criteria(\"season\", \">\", \"2000\", \"in away games\")\n",
    "\n",
    "#\n",
    "### ABOVE CODE IS RUNNING EVERY ATTEMPT, NOT JUST HOME AND AWAY\n",
    "#"
   ]
  },
  {
   "cell_type": "code",
   "execution_count": null,
   "metadata": {},
   "outputs": [],
   "source": [
    "#comparing field goals by stadium\n",
    "#first we remove stadiums where less than 20 field goal attempts have taken place as their data sets are not large enough and will skew our results\n",
    "remove_stadiums = []\n",
    "\n",
    "for i in stadiums:\n",
    "    #print(\"there were {} field goal attempts at {}.\".format(len(df[df['stadium'] == i]), i))\n",
    "    \n",
    "    if len(df[df['stadium'] == i]) < 20:\n",
    "        remove_stadiums.append(i)\n",
    "    \n",
    "#print(remove_stadiums)\n",
    "\n",
    "for r in remove_stadiums:\n",
    "    df_stadiums = df.loc[df.stadium != r]\n",
    "    stadiums_measured = df_stadiums['stadium'].unique()\n",
    "\n",
    "#print(df_stadiums)\n",
    "for s in stadiums_measured:\n",
    "    compare_for_mass_data(\"stadium\", \"==\", '\"{}\"'.format(s), 'in all games at \"{}\"'.format(s))"
   ]
  },
  {
   "cell_type": "code",
   "execution_count": null,
   "metadata": {},
   "outputs": [],
   "source": [
    "#breaking down stadiums by home and away\n",
    "#\n",
    "## NOT RETURNING ANY VALUES\n",
    "#\n",
    "\n",
    "for i in stadiums:\n",
    "    if(df['home'].equals(df['off'])):\n",
    "        compare_for_mass_data(\"stadium\", \"==\", '\"{}\"'.format(i), 'at home in \"{}\"'.format(i))\n",
    "    \n",
    "for i in stadiums:\n",
    "    if(df['home'].equals(df['def'])):\n",
    "        compare_for_mass_data(\"stadium\", \"==\", '\"{}\"'.format(i), \"while playing at away at {}\".format(i))"
   ]
  },
  {
   "cell_type": "code",
   "execution_count": null,
   "metadata": {},
   "outputs": [],
   "source": [
    "#creating a dictionary that holds separate data frames for each year\n",
    "dict_for_years = {}\n",
    "for i in years:\n",
    "    dict_for_years[\"df_year_\" + str(i)] = df[(df.season == i)].copy()\n",
    "locals().update(dict_for_years)\n"
   ]
  },
  {
   "cell_type": "code",
   "execution_count": null,
   "metadata": {},
   "outputs": [],
   "source": [
    "#printing select sections of the dict_for_years\n",
    "print(\"THIS IS 2012\")\n",
    "print(df_year_2012)\n"
   ]
  },
  {
   "cell_type": "code",
   "execution_count": null,
   "metadata": {},
   "outputs": [],
   "source": [
    "print(\"THIS IS 2016\")\n",
    "print(df_year_2016)\n",
    "#print(dict_for_years)"
   ]
  },
  {
   "cell_type": "code",
   "execution_count": null,
   "metadata": {},
   "outputs": [],
   "source": [
    "for y in years:\n",
    "    dict_for_years[\"df_year_{}\".format(y)]\n",
    "    for k in kickers:\n",
    "        compare_for_mass_data(\"kicker\", \"==\", '\"{}\"'.format(k), \"{} in {}\".format(k, y))\n",
    "\n",
    "#\n",
    "### ERROR _ DIV BY 0\n",
    "#"
   ]
  },
  {
   "cell_type": "code",
   "execution_count": null,
   "metadata": {},
   "outputs": [],
   "source": [
    "for i in kickers:\n",
    "    compare_single_criteria(\"kicker\", \"==\", i, i)\n",
    "    #break down by year - fix grammar\n",
    "\n",
    "for i in teams:\n",
    "    compare_single_criteria('off == \"{}\"'.format(i), i + \" on offense\")\n",
    "    #break down by year - fix grammar\n",
    "\n",
    "for i in teams:\n",
    "    compare_single_criteria('def == \"{}\"'.format(i), \"against \" + i)\n",
    "    #break down by year - fix grammar"
   ]
  },
  {
   "cell_type": "code",
   "execution_count": null,
   "metadata": {},
   "outputs": [],
   "source": [
    "#\n",
    "## STILL TO DO\n",
    "#\n",
    "#df_kicker_by_year = df[[\"season\", \"kicker\"]].copy()\n",
    "#print(df_kicker_by_year.head())\n",
    "\n",
    "\n",
    "#\n",
    "## STILL TO DO\n",
    "#\n",
    "# create df of my results\n",
    "# remove outliers\n",
    "# run standard deviations\n",
    "# find trends\n",
    "# create graphs"
   ]
  }
 ],
 "metadata": {
  "kernelspec": {
   "display_name": "Python 3.9.12 ('base')",
   "language": "python",
   "name": "python3"
  },
  "language_info": {
   "codemirror_mode": {
    "name": "ipython",
    "version": 3
   },
   "file_extension": ".py",
   "mimetype": "text/x-python",
   "name": "python",
   "nbconvert_exporter": "python",
   "pygments_lexer": "ipython3",
   "version": "3.9.12"
  },
  "orig_nbformat": 4,
  "vscode": {
   "interpreter": {
    "hash": "ea362b682be0464ec8ae907b46afaab0f8f668483618e0d4c498806df119c8e6"
   }
  }
 },
 "nbformat": 4,
 "nbformat_minor": 2
}
