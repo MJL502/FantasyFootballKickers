{
 "cells": [
  {
   "cell_type": "code",
   "execution_count": null,
   "metadata": {},
   "outputs": [],
   "source": [
    "import pandas as pd\n",
    "import os\n",
    "import csv\n",
    "from contextlib import nullcontext\n",
    "import seaborn as sns\n",
    "import matplotlib.pyplot as plt\n",
    "from matplotlib.cm import get_cmap"
   ]
  },
  {
   "cell_type": "markdown",
   "metadata": {},
   "source": [
    "REQUIREMENT 1 - Read Data in from CSV"
   ]
  },
  {
   "cell_type": "code",
   "execution_count": null,
   "metadata": {},
   "outputs": [],
   "source": [
    "# READ THE CSV FILE / IMPORT THE DATA\n",
    "\n",
    "absolute_path = os.path.abspath('')\n",
    "relative_path = \"data/historical_field_goal_data.csv\"\n",
    "full_path = os.path.join(absolute_path, relative_path)\n",
    "df = pd.read_csv(full_path)"
   ]
  },
  {
   "cell_type": "code",
   "execution_count": null,
   "metadata": {},
   "outputs": [],
   "source": [
    "# PRINT A SAMPLE OF THE DATA\n",
    "\n",
    "'''\n",
    "print(\"HERE IS A SAMPLE OF THE DATA:\")\n",
    "print()\n",
    "print(df.head())\n",
    "'''"
   ]
  },
  {
   "cell_type": "code",
   "execution_count": null,
   "metadata": {},
   "outputs": [],
   "source": [
    "# PRINT THE FIRST ROW IN A DOME IN THE CURRENT DF\n",
    "\n",
    "'''\n",
    "print()\n",
    "print()\n",
    "print()\n",
    "print(\"HERE IS THE FIRST ROW IN A DOME\")\n",
    "print()\n",
    "print(df.iloc[19,:])\n",
    "'''"
   ]
  },
  {
   "cell_type": "markdown",
   "metadata": {},
   "source": [
    "REQUIREMENT 2 - Manipulate and/or Clean Data"
   ]
  },
  {
   "cell_type": "code",
   "execution_count": null,
   "metadata": {},
   "outputs": [],
   "source": [
    "# CONVERTS THE NULL VALUES IN COLUMN 'temperature' TO 0\n",
    "\n",
    "df['temperature'] = df['temperature'].fillna(0)"
   ]
  },
  {
   "cell_type": "code",
   "execution_count": null,
   "metadata": {},
   "outputs": [],
   "source": [
    "# PRINT ROW 20 (FIRST ROW IN A DOME) SHOWING NEW VALUE, TEMPERATURE SHOULD NOW BE 0\n",
    "'''\n",
    "print()\n",
    "print()\n",
    "print()\n",
    "print(\"HERE IS THE FIRST ROW IN A DOME WITHOUT NULL TEMP\")\n",
    "print(df.iloc[19,:])\n",
    "'''"
   ]
  },
  {
   "cell_type": "code",
   "execution_count": null,
   "metadata": {},
   "outputs": [],
   "source": [
    "# CREATE A LIST OF COLUMNS BY NAME BY USING .COLUMNS\n",
    "'''\n",
    "list_of_column_names = list(df.columns)\n",
    "\n",
    "# displaying the list of column names\n",
    "print()\n",
    "print(\"LIST OF COLUMN NAMES:\")\n",
    "print(list_of_column_names)\n",
    "print()\n",
    "print()\n",
    "'''"
   ]
  },
  {
   "cell_type": "code",
   "execution_count": null,
   "metadata": {},
   "outputs": [],
   "source": [
    "# CREATING NEW DATAFRAME TO HOLD RESULTS FROM OUR ANALYSIS\n",
    "\n",
    "results_df = pd.DataFrame(list())\n",
    "\n",
    "# WRITING EMPTY DATA FRAME TO THE NEW CSV FILE\n",
    "\n",
    "results_df.to_csv('data/results_df.csv')\n",
    "\n",
    "# DEFINING A HEADER ROW\n",
    "\n",
    "first_row = [\"criteria\", \"attempts_per_game\", \"fg_percent\", \"expected_fgs\", \"category\"]\n",
    "\n",
    "with open('data/results_df.csv', 'w', newline='') as f:\n",
    "\n",
    "    # create the csv writer\n",
    "\n",
    "    writer = csv.writer(f)\n",
    "\n",
    "    # write a row to the csv file\n",
    "    \n",
    "    writer.writerow(first_row)"
   ]
  },
  {
   "cell_type": "code",
   "execution_count": null,
   "metadata": {},
   "outputs": [],
   "source": [
    "# PRINT THE results_df.csv\n",
    "\n",
    "absolute_path_results = os.path.abspath('')\n",
    "relative_path_results = \"data/results_df.csv\"\n",
    "full_path_results = os.path.join(absolute_path_results, relative_path_results)\n",
    "\n",
    "print_results_df = pd.read_csv(full_path_results)\n",
    "print(print_results_df.head())"
   ]
  },
  {
   "cell_type": "code",
   "execution_count": null,
   "metadata": {},
   "outputs": [],
   "source": [
    "# METHOD TO ADD RESULTS TO results_df\n",
    "\n",
    "def add_results_data(data):\n",
    "\n",
    "    with open('data/results_df.csv', 'a', newline='', encoding='utf8') as f:\n",
    "\n",
    "        # create the csv writer\n",
    "\n",
    "        writer = csv.writer(f)\n",
    "\n",
    "        # write row to the csv file\n",
    "        \n",
    "        writer.writerow(data)"
   ]
  },
  {
   "cell_type": "code",
   "execution_count": null,
   "metadata": {},
   "outputs": [],
   "source": [
    "# ADDING TOTAL GAME DATA\n",
    "\n",
    "total_games = 2405\n",
    "\n",
    "# CALCULATING GAMES WITH NO FG'S\n",
    "\n",
    "games_with_fgs = df[['season', 'week', 'stadium']].drop_duplicates().shape[0]\n",
    "games_with_no_fgs = total_games - games_with_fgs\n",
    "\n",
    "# PRINTING TOTAL NUMBER OF GAMES\n",
    "\n",
    "print()\n",
    "print(\"There were {} games from 2012-2020.\".format(total_games))\n",
    "print()\n",
    "print()"
   ]
  },
  {
   "cell_type": "markdown",
   "metadata": {},
   "source": [
    "REQUIREMENT 3 - Analyzing Data"
   ]
  },
  {
   "cell_type": "code",
   "execution_count": null,
   "metadata": {},
   "outputs": [],
   "source": [
    "# PROVIDING USER WITH INFORMATION ABOUT OUR DATA SET\n",
    "\n",
    "print()\n",
    "print(\"There are\", df[['season', 'week', 'stadium']].drop_duplicates().shape[0], \"games in our data set.\")\n",
    "print()\n",
    "print()\n",
    "print()\n",
    "\n",
    "# Alternative code using len() instead of .shape()\n",
    "    #print(\"There are\", len(df[['season', 'week', 'stadium']].drop_duplicates()), \"games in our data set.\")\n",
    "\n",
    "print(\"This means there were {} games with no field goals or field goal attempts.\".format(games_with_no_fgs))\n",
    "print()\n",
    "print()\n",
    "print()\n",
    "print(\"There were field goal attempts in {} percentage of the games and no field goal attempts in {} percentage of the games.\".format(games_with_fgs/total_games, games_with_no_fgs/total_games))\n",
    "print()\n",
    "print()\n",
    "print()"
   ]
  },
  {
   "cell_type": "markdown",
   "metadata": {},
   "source": [
    "REQUIREMENT 3 - Analyzing Data"
   ]
  },
  {
   "cell_type": "code",
   "execution_count": null,
   "metadata": {},
   "outputs": [],
   "source": [
    "# DECLARING VARIABLES\n",
    "\n",
    "number_of_fg_attempts = len(df[df.made < 3])\n",
    "number_of_fg_made = len(df[df.made == 1])\n",
    "number_of_fg_missed = len(df[df.made == 0])\n",
    "fg_percent = (number_of_fg_made / number_of_fg_attempts)\n",
    "\n",
    "# Variables above could also be written using .value_counts() but it causes issues later in this program\n",
    "    #number_of_fg_attempts = df.made.value_counts()\n",
    "    #fg_percent = df.made.value_counts(1)\n",
    "\n",
    "attempts_per_game = number_of_fg_attempts / total_games\n",
    "attempts_per_game_per_team = attempts_per_game / 2\n",
    "fg_per_game = number_of_fg_made / total_games\n",
    "fg_per_game_per_team = fg_per_game / 2\n",
    "years = df['season'].unique()\n",
    "weeks = df['week'].unique()\n",
    "stadiums = df['stadium'].unique()\n",
    "kickers = df['kicker'].unique()\n",
    "teams = df['offense'].unique()"
   ]
  },
  {
   "cell_type": "code",
   "execution_count": null,
   "metadata": {},
   "outputs": [],
   "source": [
    "# ADDING BASE DATA TO results_df\n",
    "\n",
    "results_data_to_add = [\"Avg per team, per game\", attempts_per_game_per_team, fg_percent, (attempts_per_game_per_team * fg_percent), \"Defense\"]\n",
    "results_data_to_add = [\"Avg per team, per game\", attempts_per_game_per_team, fg_percent, (attempts_per_game_per_team * fg_percent), \"Environment\"]\n",
    "results_data_to_add = [\"Avg per team, per game\", attempts_per_game_per_team, fg_percent, (attempts_per_game_per_team * fg_percent), \"Kicker\"]\n",
    "results_data_to_add = [\"Avg per team, per game\", attempts_per_game_per_team, fg_percent, (attempts_per_game_per_team * fg_percent), \"Stadium\"]\n",
    "\n",
    "add_results_data(results_data_to_add)\n",
    "\n",
    "print_results_df = pd.read_csv(full_path_results)\n",
    "print(print_results_df.head())"
   ]
  },
  {
   "cell_type": "code",
   "execution_count": null,
   "metadata": {},
   "outputs": [],
   "source": [
    "# METHOD TO PRINT SPECIFIC DATA FROM THE DATA FILE\n",
    "\n",
    "def print_df_info(description, variable):\n",
    "    print()\n",
    "    print(description + \":\")\n",
    "    print()\n",
    "    print(variable)\n",
    "    print()"
   ]
  },
  {
   "cell_type": "code",
   "execution_count": null,
   "metadata": {},
   "outputs": [],
   "source": [
    "# PRINT SELECTED DATE FROM THE DATA FILE\n",
    "\n",
    "print_df_info(\"NUMBER OF MADE FIELD GOALS:\", number_of_fg_attempts)\n",
    "print_df_info(\"PERCENTAGE OF MADE FIELD GOALS:\", fg_percent)\n",
    "print_df_info(\"NUMBER OF FIELD GOALS PER GAME:\", fg_per_game)\n",
    "print_df_info(\"NUMBER OF FIELD GOALS PER GAME:\", fg_per_game_per_team)\n",
    "print_df_info(\"Here is a list of years where game data was recorded:\", years)\n",
    "print_df_info(\"Here is a list of weeks where game data was recorded:\", weeks)\n",
    "print_df_info(\"Here is a list of Stadiums where games have been played:\", stadiums)\n",
    "print_df_info(\"Here is a list of Kickers who attempted a field goal:\", kickers)"
   ]
  },
  {
   "cell_type": "markdown",
   "metadata": {},
   "source": [
    "REQUIREMENT 3 - Analyzing Data"
   ]
  },
  {
   "cell_type": "code",
   "execution_count": null,
   "metadata": {},
   "outputs": [],
   "source": [
    "# METHOD TO ANALYZE FG DATA WITH A SINGLE CRITERIA SEARCH\n",
    "\n",
    "def compare_single_criteria(column, operator, value, description):\n",
    "\n",
    "    cop = column + operator + value\n",
    "\n",
    "    fg_att = df.query(cop).shape[0]\n",
    "    fg_made = df.query(cop + \"& made == 1\").shape[0]\n",
    "    fg_missed = df.query(cop + \"& made == 0\").shape[0]\n",
    "    p_made = df.query(cop + \"& made == 1\").shape[0] / fg_att\n",
    "    p_missed = df.query(cop + \"& made == 0\").shape[0] / fg_att\n",
    "\n",
    "    # IF STATEMENT TO DETERMINE THE CORRECT OPERATOR\n",
    "\n",
    "    if(value.isnumeric()):\n",
    "        if(operator == \"==\"):\n",
    "            temp_df = df.loc[df[column] == float(value)].copy()\n",
    "        elif(operator == \">\"):\n",
    "            temp_df = df.loc[df[column] > float(value)].copy()\n",
    "        elif(operator == \">=\"):\n",
    "            temp_df = df.loc[df[column] >= float(value)].copy()\n",
    "        elif(operator == \"<\"):\n",
    "            temp_df = df.loc[df[column] < float(value)].copy()\n",
    "        elif(operator == \"<=\"):\n",
    "            temp_df = df.loc[df[column] <= float(value)].copy()\n",
    "\n",
    "    else:\n",
    "        if(operator == \"==\"):\n",
    "            temp_df = df.loc[df[column] == \"{}\".format(value)].copy()\n",
    "        elif(operator == \"!=\"):\n",
    "            temp_df = df.loc[df[column] != value].copy()\n",
    "\n",
    "    # GTMC IS GAMES THAT MEET CRITERIA\n",
    "    \n",
    "    gtmc = temp_df[['season', 'week', 'stadium']].drop_duplicates().shape[0]\n",
    "    fg_per_game = fg_att / gtmc / 2\n",
    "    expected_made_per_game = fg_per_game * p_made\n",
    "\n",
    "    print()\n",
    "    print(\"Number of field goals attempted, \", description, \":\", fg_att)\n",
    "    print(\"Number of field goals made, \", description, \":\", fg_made)\n",
    "    print(\"Number of field goals missed, \", description, \":\", fg_missed)\n",
    "    print(\"Percentage of field goals made, \", description, \":\", p_made)\n",
    "    print(\"Percentage of field goals missed, \", description, \":\", p_missed)\n",
    "    print(\"Games \", description, \":\", gtmc)\n",
    "    print(\"Field Goals attempted per game \", description, \":\", fg_per_game)\n",
    "    print(\"Number of expected field goals made per game, \", description, \":\", expected_made_per_game)\n",
    "    print()\n",
    "    print()\n",
    "\n",
    "    results_data_to_add = [description, fg_per_game, p_made, expected_made_per_game, \"Environment\"]\n",
    "    add_results_data(results_data_to_add)"
   ]
  },
  {
   "cell_type": "markdown",
   "metadata": {},
   "source": [
    "REQUIREMENT 3 - Analyzing Data"
   ]
  },
  {
   "cell_type": "code",
   "execution_count": null,
   "metadata": {},
   "outputs": [],
   "source": [
    "# METHOD TO ANALYZE FG DATA WITH A DOUBLE CRITERIA SEARCH\n",
    "# THIS METHOD MUST USE INTEGERS WITH > AS THE FIRST OPERATOR AND < AS THE SECOND OPERATOR\n",
    "\n",
    "def compare_double_criteria(column, operator, value, operator2, value2, description):\n",
    "\n",
    "    cop = column + operator + value\n",
    "    cop2 = column + operator2 + value2\n",
    "\n",
    "    fg_att = df.query(cop + \"&\" + cop2).shape[0]\n",
    "    print(\"Number of field goals attempted, \", description, \":\", fg_att)\n",
    "\n",
    "    fg_made = df.query(cop + \"&\" + cop2 + \"& made == 1\").shape[0]\n",
    "    print(\"Number of field goals made, \", description, \":\", fg_made)\n",
    "\n",
    "    fg_missed = df.query(cop + \"&\" + cop2 + \"& made == 0\").shape[0]\n",
    "    print(\"Number of field goals missed, \", description, \":\", fg_missed)\n",
    "\n",
    "    p_made = df.query(cop + \"&\"+  cop2 + \"& made == 1\").shape[0] / df.query(cop + \"&\" + cop2).shape[0]\n",
    "    print(\"Percentage of field goals made, \", description, \":\", p_made)\n",
    "\n",
    "    p_missed = df.query(cop + \"&\" + cop2 + \"& made == 0\").shape[0] / df.query(cop + \"&\" + cop2).shape[0]\n",
    "    print(\"Percentage of field goals missed, \", description, \":\", p_missed)\n",
    "\n",
    "    # THIS METHOD MUST USE INTEGERS WITH > AS THE FIRST OPERATOR AND < AS THE SECOND OPERATOR\n",
    " \n",
    "    temp_df = df.loc[(df[column] > int(value)) & (df[column] < int(value2))].copy()\n",
    "    print(temp_df.head())\n",
    "\n",
    "    # GTMC IS GAMES THAT MEET CRITERIA\n",
    "    \n",
    "    gtmc = temp_df[['season', 'week', 'stadium']].drop_duplicates().shape[0]\n",
    "    print(\"Games \", description, \":\", gtmc)\n",
    "\n",
    "    fg_per_game = fg_att / gtmc / 2\n",
    "    print(\"Field Goals attempted per game \", description, \":\", fg_per_game)\n",
    "\n",
    "    expected_made_per_game = fg_per_game * p_made\n",
    "    print(\"Number of expected field goals made per game, \", description, \":\", expected_made_per_game)\n",
    "\n",
    "    '''\n",
    "    print()\n",
    "    print(\"Number of field goals attempted, \", description, \":\", fg_att)\n",
    "    print(\"Number of field goals made, \", description, \":\", fg_made)\n",
    "    print(\"Number of field goals missed, \", description, \":\", fg_missed)\n",
    "    print(\"Percentage of field goals made, \", description, \":\", p_made)\n",
    "    print(\"Percentage of field goals missed, \", description, \":\", p_missed)\n",
    "    print(\"Games \", description, \":\", gtmc)\n",
    "    print(\"Field Goals attempted per game \", description, \":\", fg_per_game)\n",
    "    print(\"Expected Field Goals made per game \", description, \":\", fg_per_game)\n",
    "    '''\n",
    "\n",
    "    print()\n",
    "    print()\n",
    "\n",
    "    results_data_to_add = [description, fg_per_game, p_made, expected_made_per_game, \"Environment\"]\n",
    "    add_results_data(results_data_to_add)"
   ]
  },
  {
   "cell_type": "markdown",
   "metadata": {},
   "source": [
    "REQUIREMENT 3 - Analyzing Data"
   ]
  },
  {
   "cell_type": "code",
   "execution_count": null,
   "metadata": {},
   "outputs": [],
   "source": [
    "# USING THE COMPARE METHODS TO LOOK AT HOW TEMPERATURE EFFECTS FIELD GOALS\n",
    "\n",
    "compare_single_criteria(\"temperature\", \"==\", \"0\", \"in a dome\")\n",
    "compare_double_criteria(\"temperature\", \">\", \"0\", \"<\", \"32\", \"in below freezing temperature\")\n",
    "compare_double_criteria(\"temperature\", \">\", \"32\", \"<\", \"55\", \"in the cold (32f-55f)\")\n",
    "compare_single_criteria(\"temperature\",  \">\", \"80\", \"in the heat (over 80f)\")"
   ]
  },
  {
   "cell_type": "markdown",
   "metadata": {},
   "source": [
    "REQUIREMENT 3 - Analyzing Data"
   ]
  },
  {
   "cell_type": "code",
   "execution_count": null,
   "metadata": {},
   "outputs": [],
   "source": [
    "# USING THE COMPARE METHODS TO LOOK AT HOW WIND SPEED EFFECTS FIELD GOALS\n",
    "\n",
    "compare_single_criteria(\"wind_speed\", \"<\", \"5\", \"in low wind(under 5 mph)\")\n",
    "compare_double_criteria(\"wind_speed\", \">\", \"5\", \"<\", \"10\", \"in medium wind (5-10 mph)\")\n",
    "compare_single_criteria(\"wind_speed\", \">\", \"10\", \"in high wind (over 10mph)\")"
   ]
  },
  {
   "cell_type": "markdown",
   "metadata": {},
   "source": [
    "REQUIREMENT 3 - Analyzing Data"
   ]
  },
  {
   "cell_type": "code",
   "execution_count": null,
   "metadata": {},
   "outputs": [],
   "source": [
    "# USING THE COMPARE METHODS TO LOOK AT HOW OVER/UNDER EFFECTS FIELD GOALS\n",
    "\n",
    "compare_single_criteria(\"ou\", \"<\", \"40\", \"with over/under below 40\")\n",
    "compare_double_criteria(\"ou\", \">\", \"40\", \"<\", \"45\", \"with over/under between 40 and 45\")\n",
    "compare_double_criteria(\"ou\", \">\", \"45\", \"<\", \"50\", \"with over/under between 45 and 50\")\n",
    "compare_single_criteria(\"ou\", \">\", \"50\", \"with over/under over 50\")"
   ]
  },
  {
   "cell_type": "markdown",
   "metadata": {},
   "source": [
    "REQUIREMENT 3 - Analyzing Data"
   ]
  },
  {
   "cell_type": "code",
   "execution_count": null,
   "metadata": {},
   "outputs": [],
   "source": [
    "# METHOD TO ALANYZE FG DATA WITH A STRING CRITERIA SEARCH\n",
    "\n",
    "def compare_home_away(column, operator, value, description):\n",
    "\n",
    "    cop = column + operator + value\n",
    "\n",
    "    fg_att = df.query(cop).shape[0]\n",
    "    fg_made = df.query(cop + \"& made == 1\").shape[0]\n",
    "    fg_missed = df.query(cop + \"& made == 0\").shape[0]\n",
    "    p_made = df.query(cop + \"& made == 1\").shape[0] / fg_att\n",
    "    p_missed = df.query(cop + \"& made == 0\").shape[0] / fg_att\n",
    "    \n",
    "    # GTMC IS GAMES THAT MEET CRITERIA\n",
    "    gtmc = total_games\n",
    "    fg_per_game = fg_att / gtmc\n",
    "    expected_made_per_game = fg_per_game * p_made\n",
    "\n",
    "    print()\n",
    "    print(\"Number of field goals attempted, \", description, \":\", fg_att)\n",
    "    print(\"Number of field goals made, \", description, \":\", fg_made)\n",
    "    print(\"Number of field goals missed, \", description, \":\", fg_missed)\n",
    "    print(\"Percentage of field goals made, \", description, \":\", p_made)\n",
    "    print(\"Percentage of field goals missed, \", description, \":\", p_missed)\n",
    "    print(\"Games \", description, \":\", gtmc)\n",
    "    print(\"Field Goals attempted per game \", description, \":\", fg_per_game)\n",
    "    print(\"Number of expected field goals made per game, \", description, \":\", expected_made_per_game)\n",
    "    \n",
    "    print()\n",
    "    print()\n",
    "\n",
    "    results_data_to_add = [description, fg_per_game, p_made, expected_made_per_game, \"Environment\"]\n",
    "    add_results_data(results_data_to_add)"
   ]
  },
  {
   "cell_type": "markdown",
   "metadata": {},
   "source": [
    "REQUIREMENT 3 - Analyzing Data"
   ]
  },
  {
   "cell_type": "code",
   "execution_count": null,
   "metadata": {},
   "outputs": [],
   "source": [
    "# COMPARING HOME AND AWAY GAMES\n",
    "\n",
    "compare_home_away(\"home_away\", \"==\", '\"home\"', \"in home games\")\n",
    "compare_home_away(\"home_away\", \"==\", '\"away\"', \"in away games\")"
   ]
  },
  {
   "cell_type": "markdown",
   "metadata": {},
   "source": [
    "REQUIREMENT 3 - Analyzing Data"
   ]
  },
  {
   "cell_type": "code",
   "execution_count": null,
   "metadata": {},
   "outputs": [],
   "source": [
    "# COMPARING FIELD GOALS BY STADIUM\n",
    "\n",
    "# FIRST WE RMOVE STADIUMS WHERE LESS THAN 20 FIELD GOALS WERE ATTEMPTED, THEIR DATA SETS ARE TOO SMALL AND WILL SKEW RESULTS\n",
    "remove_stadiums = []\n",
    "\n",
    "for i in stadiums:\n",
    "    \n",
    "    if len(df[df['stadium'] == i]) < 20:\n",
    "        remove_stadiums.append(i)\n",
    "\n",
    "df_stadiums = df[~df.stadium.isin(remove_stadiums)]\n",
    "stadiums_measured = df_stadiums['stadium'].unique()\n",
    "\n",
    "for s in stadiums_measured:\n",
    "    stadium_df = df.loc[df['stadium'] == s].copy()\n",
    "\n",
    "    cop = 'stadium == \"{}\"'.format(s)\n",
    "    description = 'in all games at \"{}\"'.format(s)\n",
    "    \n",
    "    fg_att = df.query(cop).shape[0]\n",
    "    fg_made = df.query(cop + \"& made == 1\").shape[0]\n",
    "    fg_missed = df.query(cop + \"& made == 0\").shape[0]\n",
    "    p_made = df.query(cop + \"& made == 1\").shape[0] / df.query(cop).shape[0]\n",
    "    p_missed = df.query(cop + \"& made == 0\").shape[0] / df.query(cop).shape[0]\n",
    "\n",
    "    # GTMC IS GAMES THAT MEET CRITERIA\n",
    "    gtmc = stadium_df[['season', 'week', 'stadium']].drop_duplicates().shape[0]\n",
    "    fg_per_game = fg_att / gtmc / 2\n",
    "    expected_made_per_game = fg_per_game * p_made\n",
    "\n",
    "    print()\n",
    "    print(\"Number of field goals attempted, \", description, \":\", fg_att)\n",
    "    print(\"Number of field goals made, \", description, \":\", fg_made)\n",
    "    print(\"Number of field goals missed, \", description, \":\", fg_missed)\n",
    "    print(\"Percentage of field goals made, \", description, \":\", p_made)\n",
    "    print(\"Percentage of field goals missed, \", description, \":\", p_missed)\n",
    "    print(\"Games \", description, \":\", gtmc)\n",
    "    print(\"Field Goals attempted per game \", description, \":\", fg_per_game)\n",
    "    print(\"Number of expected field goals made per game, \", description, \":\", expected_made_per_game)\n",
    "    \n",
    "    print()\n",
    "    print()\n",
    "\n",
    "    results_data_to_add = [description, fg_per_game, p_made, expected_made_per_game, \"Stadium\"]\n",
    "    add_results_data(results_data_to_add)"
   ]
  },
  {
   "cell_type": "markdown",
   "metadata": {},
   "source": [
    "REQUIREMENT 3 - Analyzing Data"
   ]
  },
  {
   "cell_type": "code",
   "execution_count": null,
   "metadata": {},
   "outputs": [],
   "source": [
    "# METHOD TO ANALYZE FG DATA WITH A STRING CRITERIA SEARCH, PER STADIUM\n",
    "\n",
    "def compare_home_away_per_stadium(column, operator, value, description, temporary_df):\n",
    "\n",
    "    cop = column + operator + value\n",
    "    \n",
    "    temp_s_df = temporary_df\n",
    "    fg_att2 = temp_s_df.query(cop).shape[0]  \n",
    "    fg_made = temp_s_df.query(cop + \"& made == 1\").shape[0]\n",
    "    fg_missed = temp_s_df.query(cop + \"& made == 0\").shape[0]\n",
    "    p_made = temp_s_df.query(cop + \"& made == 1\").shape[0] / fg_att2\n",
    "    p_missed = temp_s_df.query(cop + \"& made == 0\").shape[0] / fg_att2\n",
    "\n",
    "    # GTMC IS GAMES THAT MEET CRITERIA\n",
    "    gtmc = stadium_df[['season', 'week', 'stadium']].drop_duplicates().shape[0]\n",
    "    fg_per_game = fg_att2 / gtmc\n",
    "    expected_made_per_game = fg_per_game * p_made\n",
    "\n",
    "    print()\n",
    "    print(\"Number of field goals attempted, \", description, \":\", fg_att2)\n",
    "    print(\"Number of field goals made, \", description, \":\", fg_made)\n",
    "    print(\"Number of field goals missed, \", description, \":\", fg_missed)\n",
    "    print(\"Percentage of field goals made, \", description, \":\", p_made)\n",
    "    print(\"Percentage of field goals missed, \", description, \":\", p_missed)\n",
    "    print(\"Games \", description, \":\", gtmc)\n",
    "    print(\"Field Goals attempted per game \", description, \":\", fg_per_game)\n",
    "    print(\"Number of expected field goals made per game, \", description, \":\", expected_made_per_game)\n",
    "    \n",
    "    print()\n",
    "    print()\n",
    "\n",
    "    results_data_to_add = [description, fg_per_game, p_made, expected_made_per_game, \"Stadium\"]\n",
    "    add_results_data(results_data_to_add)"
   ]
  },
  {
   "cell_type": "markdown",
   "metadata": {},
   "source": [
    "REQUIREMENT 3 - Analyzing Data"
   ]
  },
  {
   "cell_type": "code",
   "execution_count": null,
   "metadata": {},
   "outputs": [],
   "source": [
    "# COMPARING ONLY HOME GAMES IN EACH STADIUM\n",
    "\n",
    "for s in stadiums_measured:\n",
    "    stadium_df = df.loc[df['stadium'] == s].copy()\n",
    "    compare_home_away_per_stadium(\"home_away\", \"==\", '\"home\"', \"in home games at {}\".format(s), stadium_df)"
   ]
  },
  {
   "cell_type": "markdown",
   "metadata": {},
   "source": [
    "REQUIREMENT 3 - Analyzing Data"
   ]
  },
  {
   "cell_type": "code",
   "execution_count": null,
   "metadata": {},
   "outputs": [],
   "source": [
    "# COMPARING ONLY AWAY GAMES IN EACH STADIUM\n",
    " \n",
    "for s in stadiums_measured:\n",
    "    stadium_df = df.loc[df['stadium'] == s].copy()\n",
    "    compare_home_away_per_stadium(\"home_away\", \"==\", '\"away\"', \"in away games at {}\".format(s), stadium_df)"
   ]
  },
  {
   "cell_type": "markdown",
   "metadata": {},
   "source": [
    "REQUIREMENT 3 - Analyzing Data"
   ]
  },
  {
   "cell_type": "code",
   "execution_count": null,
   "metadata": {},
   "outputs": [],
   "source": [
    "# COMPARING BY KICKER\n",
    "\n",
    "# FIRST WE RMOVE KICKERS WHOT TOOK LESS THAN 20 FIELD GOALS ATTEMPTs, THEIR DATA SETS ARE TOO SMALL AND WILL SKEW RESULTS\n",
    "remove_kickers = []\n",
    "\n",
    "for i in kickers:\n",
    "    \n",
    "    if len(df[df['kicker'] == i]) < 20:\n",
    "        remove_kickers.append(i)\n",
    "\n",
    "df_kickers = df[~df.kicker.isin(remove_kickers)]\n",
    "kickers_measured = df_kickers['kicker'].unique()\n",
    "\n",
    "\n",
    "for k in kickers_measured:\n",
    "    kicker_df = df.loc[df['kicker'] == k].copy()\n",
    "\n",
    "    cop = 'kicker == \"{}\"'.format(k)\n",
    "    description = '\"{}\"'.format(k)\n",
    "\n",
    "    fg_att = df.query(cop).shape[0]\n",
    "    fg_made = df.query(cop + \"& made == 1\").shape[0]\n",
    "    fg_missed = df.query(cop + \"& made == 0\").shape[0]\n",
    "    p_made = df.query(cop + \"& made == 1\").shape[0] / fg_att\n",
    "    p_missed = df.query(cop + \"& made == 0\").shape[0] / fg_att\n",
    "    \n",
    "    # GTMC IS GAMES THAT MEET CRITERIA\n",
    "    gtmc = kicker_df[['season', 'week', 'stadium']].drop_duplicates().shape[0]\n",
    "    fg_per_game = fg_att / gtmc\n",
    "    expected_made_per_game = fg_per_game * p_made\n",
    "\n",
    "    print()\n",
    "    print(\"Number of field goals attempted, \", description, \":\", fg_att)\n",
    "    print(\"Number of field goals made, \", description, \":\", fg_made)\n",
    "    print(\"Number of field goals missed, \", description, \":\", fg_missed)\n",
    "    print(\"Percentage of field goals made, \", description, \":\", p_made)\n",
    "    print(\"Percentage of field goals missed, \", description, \":\", p_missed)\n",
    "    print(\"Games \", description, \":\", gtmc)\n",
    "    print(\"Field Goals attempted per game \", description, \":\", fg_per_game)\n",
    "    print(\"Number of expected field goals made per game, \", description, \":\", expected_made_per_game)\n",
    "    \n",
    "    print()\n",
    "    print()\n",
    "\n",
    "    results_data_to_add = [description, fg_per_game, p_made, expected_made_per_game, \"Kicker\"]\n",
    "    add_results_data(results_data_to_add)"
   ]
  },
  {
   "cell_type": "markdown",
   "metadata": {},
   "source": [
    "REQUIREMENT 3 - Analyzing Data"
   ]
  },
  {
   "cell_type": "code",
   "execution_count": null,
   "metadata": {},
   "outputs": [],
   "source": [
    "# ANALYZING FG DATA BY DEFENSE PLAYED AGAINST, PER YEAR\n",
    "\n",
    "for y in years:\n",
    "    year_df = df[(df.season == y)].copy()\n",
    "\n",
    "    for t in teams:\n",
    "    \n",
    "        cop = 'defense == \"{}\"'.format(t)\n",
    "        description = 'against \"{}\" \"{}\" defense'.format(y, t)\n",
    "        team_df =year_df.loc[year_df['defense'] == t].copy()\n",
    "\n",
    "        fg_att = team_df.query(cop).shape[0]\n",
    "        #print(\"There were {} fg attempts against the {} defense in {}\".format(fg_att, t, y))\n",
    "        fg_made = team_df.query(cop + \"& made == 1\").shape[0]\n",
    "        fg_missed = team_df.query(cop + \"& made == 0\").shape[0]\n",
    "        p_made = team_df.query(cop + \"& made == 1\").shape[0] / fg_att\n",
    "        p_missed = team_df.query(cop + \"& made == 0\").shape[0] / fg_att\n",
    "    \n",
    "        # GTMC IS GAMES THAT MEET CRITERIA\n",
    "        \n",
    "        if(team_df[['season', 'week', 'stadium']].drop_duplicates().shape[0] > 16):\n",
    "            gtmc_formula = team_df[['season', 'week', 'stadium']].drop_duplicates().shape[0]\n",
    "        else:\n",
    "            gtmc_formula = 16\n",
    "            \n",
    "        gtmc = gtmc_formula\n",
    "        fg_per_game = fg_att / gtmc\n",
    "        expected_made_per_game = fg_per_game * p_made\n",
    "\n",
    "        print()\n",
    "        print(\"Number of field goals attempted, \", description, \":\", fg_att)\n",
    "        print(\"Number of field goals made, \", description, \":\", fg_made)\n",
    "        print(\"Number of field goals missed, \", description, \":\", fg_missed)\n",
    "        print(\"Percentage of field goals made, \", description, \":\", p_made)\n",
    "        print(\"Percentage of field goals missed, \", description, \":\", p_missed)\n",
    "        print(\"Games \", description, \":\", gtmc)\n",
    "        print(\"Field Goals attempted per game \", description, \":\", fg_per_game)\n",
    "        print(\"Number of expected field goals made per game, \", description, \":\", expected_made_per_game)\n",
    "    \n",
    "        print()\n",
    "        print()\n",
    "\n",
    "        results_data_to_add = [description, fg_per_game, p_made, expected_made_per_game, \"Defense\"]\n",
    "        add_results_data(results_data_to_add)"
   ]
  },
  {
   "cell_type": "markdown",
   "metadata": {},
   "source": [
    "REQUIREMENT 1 - Read Data in from CSV"
   ]
  },
  {
   "cell_type": "code",
   "execution_count": null,
   "metadata": {},
   "outputs": [],
   "source": [
    "# READING THE RESULTS DATA FRAME\n",
    "absolute_path = os.path.abspath('')\n",
    "relative_results_path = \"data/results_df.csv\"\n",
    "full_path = os.path.join(absolute_path, relative_results_path)\n",
    "results_df = pd.read_csv(full_path)\n",
    "\n",
    "# SORTING THE RESULTS\n",
    "\n",
    "results_df.sort_values(by=['expected_fgs'], inplace=True)"
   ]
  },
  {
   "cell_type": "markdown",
   "metadata": {},
   "source": [
    "REQUIREMENT 4 - Create a Visualization of the data - \n",
    "\n",
    "This chart shows expected field goals per game based on Kicker"
   ]
  },
  {
   "cell_type": "code",
   "execution_count": null,
   "metadata": {},
   "outputs": [],
   "source": [
    "# VISUALIZATION OF RESULTS BY KICKER\n",
    "\n",
    "kicker_results_df = results_df.loc[results_df['category'] == \"Kicker\"]\n",
    "\n",
    "sns.set(rc={'figure.figsize':(75, 25)})\n",
    "sns.scatterplot(x=kicker_results_df['criteria'], y=kicker_results_df['expected_fgs'], s=400, color=\"blue\")\n",
    "plt.title('RESULTS BY KICKER', fontsize=100)\n",
    "plt.xlabel('Kicker', fontsize=50)\n",
    "plt.xticks(rotation=90, fontsize=30)\n",
    "plt.ylabel('Expected field goals per game', fontsize=50)\n",
    "plt.yticks(fontsize=30)\n",
    "plt.show()"
   ]
  },
  {
   "cell_type": "markdown",
   "metadata": {},
   "source": [
    "REQUIREMENT 4 - Create a Visualization of the data - \n",
    "\n",
    "This chart shows expected field goals per game based on opposing defense"
   ]
  },
  {
   "cell_type": "code",
   "execution_count": null,
   "metadata": {},
   "outputs": [],
   "source": [
    "# VISUALIZATION OF RESULTS BY DEFENSE\n",
    "\n",
    "defense_results_df = results_df.loc[results_df['category'] == \"Defense\"]\n",
    "\n",
    "sns.set(rc={'figure.figsize':(300, 50)})\n",
    "sns.scatterplot(x=defense_results_df['criteria'], y=defense_results_df['expected_fgs'], s=400, color=\"blue\")\n",
    "plt.title('RESULTS BY OPPOSING DEFENSE', fontsize=100)\n",
    "plt.xlabel('Defense', fontsize=50)\n",
    "plt.xticks(rotation=90, fontsize=30)\n",
    "plt.ylabel('Expected field goals per game', fontsize=50)\n",
    "plt.yticks(fontsize=30)\n",
    "plt.show()"
   ]
  },
  {
   "cell_type": "markdown",
   "metadata": {},
   "source": [
    "REQUIREMENT 4 - Create a Visualization of the data - \n",
    "\n",
    "This chart shows the BEST and WORST expected field goals per game based on opposing defense.\n",
    "\n",
    "REQUIREMENT 5 - Interpret your data\n",
    "\n",
    "<font size=\"5\">\n",
    "OPPOSING DEFENSE IS ONE OF THREE FACTORS THAT IS A GOOD PREDICTOR FOR HIGH FG's PER GAME.\n",
    "OPPOSING DEFENSE IS THE NUMBER ONE, ABOLUSTE BEST, PREDICTOR OF LOW FIELD GOALS PER GAME.  FOR LOW FG'S IT IS A BETTER PREDICTOR THAN ANY OTHER FACTOR WE RESEARCHED.\n",
    "</font> "
   ]
  },
  {
   "cell_type": "code",
   "execution_count": null,
   "metadata": {},
   "outputs": [],
   "source": [
    "# VISUALIZATION OF BEST AND WORST RESULTS BY DEFENSE\n",
    "\n",
    "defense_results_df = results_df.loc[results_df['category'] == \"Defense\"]\n",
    "\n",
    "sliced_df = defense_results_df.head(10)\n",
    "sliced_df = sliced_df.append(defense_results_df.tail(10))\n",
    "\n",
    "sns.set(rc={'figure.figsize':(75, 25)})\n",
    "sns.scatterplot(x=sliced_df['criteria'], y=sliced_df['expected_fgs'], s=400, color=\"blue\")\n",
    "plt.title('BEST AND WORST RESULTS BY OPPOSING DEFENSE', fontsize=100)\n",
    "plt.xlabel('Defense', fontsize=50)\n",
    "plt.xticks(rotation=90, fontsize=30)\n",
    "plt.ylabel('Expected field goals per game', fontsize=50)\n",
    "plt.yticks(fontsize=30)\n",
    "plt.show()"
   ]
  },
  {
   "cell_type": "markdown",
   "metadata": {},
   "source": [
    "REQUIREMENT 4 - Create a Visualization of the data - \n",
    "\n",
    "This chart shows expected field goals per game based on environmental factors, such as weather.\n",
    "\n",
    "REQUIREMENT 5 - Interpret your data\n",
    "\n",
    "<font size=\"5\">\n",
    "ENVIRONMENTAL FACTORS HAVE A NOTICABLE, AND SOMEWHAT EXPECTED, EFFECT ON FIELD GOALS PER GAME.  \n",
    "HOWEVER, ONE OF THE MOST IMPORTANT FINDINGS OF THIS ANALYSIS IS THAT THE KICKER, OPPOSING DEFENSE, AND/OR STADIUM HAVE MUCH MORE EFFECT ON THE EXPECTED NUMBER OF FIELD GOALS PER GAME THAN ANY OF THE ENVIRONMENTAL FACTORS WE REVIEWED.\n",
    "</font> "
   ]
  },
  {
   "cell_type": "code",
   "execution_count": null,
   "metadata": {},
   "outputs": [],
   "source": [
    "# VISUALIZATION OF RESULTS BY ENVIRONMENT\n",
    "\n",
    "environment_results_df = results_df.loc[results_df['category'] == \"Environment\"]\n",
    "\n",
    "sns.set(rc={'figure.figsize':(75, 25)})\n",
    "sns.scatterplot(x=environment_results_df['criteria'], y=environment_results_df['expected_fgs'], s=400, color=\"blue\")\n",
    "plt.title('RESULTS BY ENVIRONMENT', fontsize=100)\n",
    "plt.xlabel('Criteria', fontsize=50)\n",
    "plt.xticks(rotation=90, fontsize=30)\n",
    "plt.ylabel('Expected field goals per game', fontsize=50)\n",
    "plt.yticks(fontsize=30)\n",
    "plt.show()"
   ]
  },
  {
   "cell_type": "markdown",
   "metadata": {},
   "source": [
    "REQUIREMENT 4 - Create a Visualization of the data - \n",
    "\n",
    "This chart shows expected field goals per game based on stadium where the game is played (shows average, home, and away).\n",
    "\n",
    "REQUIREMENT 5 - Interpret your data \n",
    "\n",
    "<font size=\"5\">\n",
    "ALL STADIUMS ARE NOT CREATED EQUAL.  THE CHART SHOWS WHICH STADIUMS HAVE MORE OR LESS FIELD GOALS PER GAME.\n",
    "\n",
    "THE MOST FAVORABLE STADIUMS HAVE ALMOST TWICE AS MANY FIELD GOALS PER GAME AS THE LEAST FAVORABLE.\n",
    "</font>"
   ]
  },
  {
   "cell_type": "code",
   "execution_count": null,
   "metadata": {},
   "outputs": [],
   "source": [
    "# VISUALIZATION OF RESULTS BY STADIUM\n",
    "\n",
    "stadium_results_df = results_df.loc[results_df['category'] == \"Stadium\"]\n",
    "\n",
    "sns.set(rc={'figure.figsize':(150, 50)})\n",
    "sns.scatterplot(x=stadium_results_df['criteria'], y=stadium_results_df['expected_fgs'], s=400, color=\"blue\")\n",
    "plt.title('RESULTS BY STADIUM', fontsize=100)\n",
    "plt.xlabel('Locatoin', fontsize=50)\n",
    "plt.xticks(rotation=90, fontsize=30)\n",
    "plt.ylabel('Expected field goals per game', fontsize=50)\n",
    "plt.yticks(fontsize=30)\n",
    "plt.show()"
   ]
  },
  {
   "cell_type": "markdown",
   "metadata": {},
   "source": [
    "REQUIREMENT 4 - Create a Visualization of the data - \n",
    "\n",
    "This chart shows the BEST and WORST expected field goals per game based on stadium\n",
    "\n",
    "REQUIREMENT 5 - Interpret your data\n",
    "\n",
    "<font size=\"5\">\n",
    "\n",
    "ALLEGIANT STADIUM, STUBHUB CENTER, AND METLIFE STADIUM ARE THE MOST FAVORABLE STADIUMS.  WEMBLEY IS THE LEAST FAVORABLE.\n",
    "\n",
    "</font> "
   ]
  },
  {
   "cell_type": "code",
   "execution_count": null,
   "metadata": {},
   "outputs": [],
   "source": [
    "# VISUALIZATION OF BEST AND WORST RESULTS BY STADIUM\n",
    "\n",
    "stadium_results_df = results_df.loc[results_df['category'] == \"Stadium\"]\n",
    "\n",
    "sliced_df = stadium_results_df.head(10)\n",
    "sliced_df = sliced_df.append(stadium_results_df.tail(10))\n",
    "\n",
    "sns.set(rc={'figure.figsize':(75, 25)})\n",
    "sns.scatterplot(x=sliced_df['criteria'], y=sliced_df['expected_fgs'], s=400, color=\"blue\")\n",
    "plt.title('BEST AND WORST RESULTS BY STADIUM', fontsize=100)\n",
    "plt.xlabel('Location', fontsize=50)\n",
    "plt.xticks(rotation=90, fontsize=30)\n",
    "plt.ylabel('Expected field goals per game', fontsize=50)\n",
    "plt.yticks(fontsize=30)\n",
    "plt.show()"
   ]
  },
  {
   "cell_type": "markdown",
   "metadata": {},
   "source": [
    "REQUIREMENT 4 - Create a Visualization of the data - \n",
    "\n",
    "This chart shows expected field goals per game based on all criteria we reviewed."
   ]
  },
  {
   "cell_type": "code",
   "execution_count": null,
   "metadata": {},
   "outputs": [],
   "source": [
    "# VISUALIZATION OF All RESULTS CRITERIA\n",
    "\n",
    "sns.set(rc={'figure.figsize':(300, 50)})\n",
    "sns.scatterplot(x=results_df['criteria'], y=results_df['expected_fgs'], s=400, color=\"blue\")\n",
    "plt.title('All Results', fontsize=100)\n",
    "plt.xlabel('Criteria', fontsize=50)\n",
    "plt.xticks(rotation=90, fontsize=30)\n",
    "plt.ylabel('Expected field goals per game', fontsize=50)\n",
    "plt.yticks(fontsize=30)\n",
    "plt.show()"
   ]
  },
  {
   "cell_type": "markdown",
   "metadata": {},
   "source": [
    "REQUIREMENT 4 - Create a Visualization of the data - \n",
    "\n",
    "This chart shows expected field goals per game based on environmental factors, such as weather.\n",
    "It uses different colored symbols to allow the user to determine whether the factor being measured is stadium, defense, kicker, or environmental.\n",
    "\n",
    "REQUIREMENT 5 - Interpret your data\n",
    "\n",
    "<font size=\"5\">\n",
    "OPPOSING DEFENSE IT THE BEST PREDICTOR OF LOW FIELD GOALS PER GAME.  OPPOSING DEFENSE IS ALSO THE BEST PREDICTOR OF HIGH FIELD GOALS PER GAME.  HOWEVER, IN THE CASE OF HIGH FIELD GOALS PER GAME, THE MOST FAVORABLE STADIUMS AND KICKERS ARE ALSO GOOD PREDICTORS.\n",
    "\n",
    "ENVIRONMENTAL FACTORS, WHILE ACCURATE PREDICTORS, HAVE LESS EFFECT ON WHETHER THERE WILL BE A HIGH OR LOW NUMBER OF FIELD GOALS IN A GAME.  ENVIRONMENTAL FACTORS DO NOT APPEAR A SINGLE TIME IN THE TOP 25 OR BOTTOM 25 OF PREDICTORS.  \n",
    "</font> \n",
    "\n"
   ]
  },
  {
   "cell_type": "code",
   "execution_count": null,
   "metadata": {},
   "outputs": [],
   "source": [
    "# VISUALIZATION OF BEST AND WORST OVERALL\n",
    "\n",
    "sliced_df2 = results_df.head(25)\n",
    "sliced_df2 = sliced_df2.append(results_df.tail(25))\n",
    "\n",
    "sns.set(rc={'figure.figsize':(75, 25)})\n",
    "final = sns.scatterplot(x=sliced_df2['criteria'], y=sliced_df2['expected_fgs'], hue=sliced_df2['category'], style=sliced_df2['category'],s=500)\n",
    "plt.title('TOP 25 BEST AND WORST OVERALL RESULTS', fontsize=100)\n",
    "plt.xlabel('Criteria', fontsize=50)\n",
    "plt.xticks(rotation=90, fontsize=30)\n",
    "plt.ylabel('Expected field goals per game', fontsize=50)\n",
    "plt.yticks(fontsize=30)\n",
    "plt.setp(final.get_legend().get_title(), fontsize='75')\n",
    "plt.legend(markerscale=5)\n",
    "plt.setp(final.get_legend().get_texts(), fontsize='40')  \n",
    "\n",
    "plt.show()"
   ]
  },
  {
   "cell_type": "markdown",
   "metadata": {},
   "source": [
    "REQUIREMENT 4 - Create a Visualization of the data - \n",
    "\n",
    "This chart shows expected field goals per game based on all factors, as well as the prectage of field goals made.\n",
    "It uses a second Y axis on the right side of the graph to show the percentages.\n",
    "\n",
    "REQUIREMENT 5 - Interpret your data\n",
    "\n",
    "<font size=\"5\">\n",
    "\n",
    "Percentages are not nearly as linear as expected field goals.  This is because there is not a strong correlation between number of attempted field goals and percentages.  For example, the percentage made in a game in below freezing temperatures is not particularly low, but the number of attempts is.    \n",
    "\n",
    "</font> "
   ]
  },
  {
   "cell_type": "code",
   "execution_count": null,
   "metadata": {},
   "outputs": [],
   "source": [
    "# ALL DATA WITH PERCENTAGES\n",
    "\n",
    "sns.set(rc={'figure.figsize':(300, 50)})\n",
    "sns.scatterplot(x=results_df['criteria'], y=results_df['expected_fgs'], s=500, color=\"blue\")\n",
    "plt.title('ALL DATA WITH FIELD GOALS', fontsize=100)\n",
    "plt.xlabel('Criteria', fontsize=50)\n",
    "plt.xticks(rotation=90, fontsize=30)\n",
    "plt.ylabel('Expected field goals per game', fontsize=50, color=\"blue\")\n",
    "plt.yticks(fontsize=30)\n",
    "#ax3 = sns.scatterplot(x=results_df['criteria'], y=results_df['attempts_per_game'], s=250, color=\"green\")\n",
    "ax2 = plt.twinx()\n",
    "sns.scatterplot(x=results_df['criteria'], y=results_df['fg_percent'], ax=ax2,  s=250, color=\"red\")\n",
    "plt.ylabel('Percentage Made', fontsize=50, color=\"red\")\n",
    "plt.yticks(fontsize=30)\n",
    "plt.show()"
   ]
  },
  {
   "cell_type": "markdown",
   "metadata": {},
   "source": [
    "THIS IS A DICTIONARY WHICH HOLDS SLICES OF THE MAIN DATA FRAME, ORGANIZED BY YEAR.\n",
    "IN THE FUTURE I WOULD LIKE TO SEE IF THERE ARE LONG TERM TRENDS OF INCREASING OR DECREASING NUMBER OF FIELD GOALS.\n",
    "THIS DOES NOT EFFECT THIS PROJECTS GOAL OF DETERMINING FACTORS TO PREDICT FIELD GOALS ON A PER GAME BASIS OVER EACH WEEK OF THE SEASON, BUT MAY BE USED TO ADD FEATURES TO THIS PROJECT IN THE FUTURE"
   ]
  },
  {
   "cell_type": "code",
   "execution_count": null,
   "metadata": {},
   "outputs": [],
   "source": [
    "# CREATING A DICTIONARY OF DF'S, ORGANIZED BY EACH YEAR\n",
    "\n",
    "dict_for_years = {}\n",
    "\n",
    "for y in years:\n",
    "    dict_for_years[\"df_year_\" + str(y)] = df[(df.season == y)].copy()\n",
    "locals().update(dict_for_years)"
   ]
  },
  {
   "cell_type": "code",
   "execution_count": null,
   "metadata": {},
   "outputs": [],
   "source": [
    "# PRINTING SELECT SECTIONS OF THE dict_for_years\n",
    "\n",
    "print(\"THIS IS 2012\")\n",
    "print(df_year_2012)"
   ]
  },
  {
   "cell_type": "code",
   "execution_count": null,
   "metadata": {},
   "outputs": [],
   "source": [
    "print(\"THIS IS 2016\")\n",
    "print(df_year_2016)"
   ]
  },
  {
   "cell_type": "code",
   "execution_count": null,
   "metadata": {},
   "outputs": [],
   "source": [
    "#\n",
    "## STILL TO DO\n",
    "#\n",
    "# refactor!\n",
    "#check trends from year to year\n",
    "#"
   ]
  }
 ],
 "metadata": {
  "kernelspec": {
   "display_name": "Python 3.9.12 ('base')",
   "language": "python",
   "name": "python3"
  },
  "language_info": {
   "codemirror_mode": {
    "name": "ipython",
    "version": 3
   },
   "file_extension": ".py",
   "mimetype": "text/x-python",
   "name": "python",
   "nbconvert_exporter": "python",
   "pygments_lexer": "ipython3",
   "version": "3.9.12"
  },
  "orig_nbformat": 4,
  "vscode": {
   "interpreter": {
    "hash": "ea362b682be0464ec8ae907b46afaab0f8f668483618e0d4c498806df119c8e6"
   }
  }
 },
 "nbformat": 4,
 "nbformat_minor": 2
}
